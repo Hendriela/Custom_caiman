{
 "cells": [
  {
   "cell_type": "markdown",
   "metadata": {},
   "source": [
    "# Place Cell Detection\n",
    "\n",
    "After we have extracted the neurons from the movie and got the calcium data, we can start with the data analysis.\n",
    "\n",
    "The first (automated) step is to find place cells. There are several ways of determining whether a cell is a place cell. Some people use mutual information as a measure of spatial information content of a cell's activity and accept place cells if the SI has a p-value of 5%. This method is mainly used in e-phys data.\n",
    "\n",
    "Here, we use a bit more complex criteria used by people on calcium data, which might be a bit more suitable (see ``Dombeck et al. 2010``; ``Hainmüller & Bartos 2018``)"
   ]
  },
  {
   "cell_type": "code",
   "execution_count": 1,
   "metadata": {},
   "outputs": [
    {
     "name": "stderr",
     "output_type": "stream",
     "text": [
      "Using TensorFlow backend.\n"
     ]
    }
   ],
   "source": [
    "# Import packages\n",
    "import sys\n",
    "sys.path.append('..\\\\custom scripts\\\\')\n",
    "\n",
    "import pickle\n",
    "import numpy as np\n",
    "import matplotlib.pyplot as plt\n",
    "import place_cell_class as pc\n",
    "import standard_pipeline.place_cell_pipeline as pipe\n",
    "from spike_prediction.spike_prediction import predict_spikes\n"
   ]
  },
  {
   "cell_type": "markdown",
   "metadata": {},
   "source": [
    "### Load data in the CNM object and set Place Cell Finder parameters"
   ]
  },
  {
   "cell_type": "code",
   "execution_count": 2,
   "metadata": {},
   "outputs": [
    {
     "name": "stdout",
     "output_type": "stream",
     "text": [
      "Loading file W:\\Neurophysiology-Storage1\\Wahl\\Hendrik\\PhD\\Data\\Batch3\\M41\\20200902\\cnm_results.hdf5...\n"
     ]
    },
    {
     "name": "stderr",
     "output_type": "stream",
     "text": [
      "C:\\Anaconda3\\envs\\caiman\\lib\\site-packages\\h5py\\_hl\\dataset.py:313: H5pyDeprecationWarning: dataset.value has been deprecated. Use dataset[()] instead.\n",
      "  \"Use dataset[()] instead.\", H5pyDeprecationWarning)\n"
     ]
    }
   ],
   "source": [
    "# Set directory of the session\n",
    "root = r'W:\\Neurophysiology-Storage1\\Wahl\\Hendrik\\PhD\\Data\\Batch3\\M41\\20200902'\n",
    "\n",
    "# Set parameters\n",
    "pcf_params = {'root': root,     # main directory of this session\n",
    "          'trans_length': 0.5,  # minimum length in seconds of a significant transient\n",
    "          'trans_thresh': 4,    # factor of sigma above which a transient is significant\n",
    "          'bin_length': 5,      # length in cm VR distance in which to bin dF/F trace (must be divisor of track_length)\n",
    "          'bin_window_avg': 3,  # sliding window of bins (left and right) for trace smoothing\n",
    "          'bin_base': 0.25,     # fraction of lowest bins that are averaged for baseline calculation\n",
    "          'place_thresh': 0.25, # threshold of being considered for place fields, calculated\n",
    "                                #     from difference between max and baseline dF/F\n",
    "          'min_pf_size': 15,    # minimum size in cm for a place field (should be 15-20 cm)\n",
    "          'fluo_infield': 7,    # factor above which the mean DF/F in the place field should lie vs. outside the field\n",
    "          'trans_time': 0.15,    # fraction of the (unbinned!) signal while the mouse is located in\n",
    "                                # the place field that should consist of significant transients\n",
    "          'track_length': 400,  # length in cm of the virtual reality corridor\n",
    "          'split_size': 50}     # size in frames of bootstrapping segments\n",
    "\n",
    "# Load CNM object\n",
    "cnm = pipe.load_cnmf(root)"
   ]
  },
  {
   "cell_type": "markdown",
   "metadata": {},
   "source": [
    "## Place cell finding pipeline\n",
    "\n",
    "### Initialize PCF object and split session trace into trials\n",
    "\n",
    "The first step is to initialize the PCF object which will hold all the data (including the raw data of the CNM object).\n",
    "\n",
    "The calcium data is for now stored in one long array containing all frames of the session, because CaImAn analyses all trials of one session together. We thus have to first split this long array into multiple arrays, one for each trial. Trial lenghts are gathered from the frame count of the movie .tif files."
   ]
  },
  {
   "cell_type": "code",
   "execution_count": 3,
   "metadata": {},
   "outputs": [
    {
     "name": "stdout",
     "output_type": "stream",
     "text": [
      "WARNING:tensorflow:From C:\\Anaconda3\\envs\\caiman\\lib\\site-packages\\tensorflow\\python\\ops\\resource_variable_ops.py:435: colocate_with (from tensorflow.python.framework.ops) is deprecated and will be removed in a future version.\n",
      "Instructions for updating:\n",
      "Colocations handled automatically by placer.\n",
      "WARNING:tensorflow:From C:\\Anaconda3\\envs\\caiman\\lib\\site-packages\\tensorflow\\python\\ops\\math_ops.py:3066: to_int32 (from tensorflow.python.ops.math_ops) is deprecated and will be removed in a future version.\n",
      "Instructions for updating:\n",
      "Use tf.cast instead.\n"
     ]
    },
    {
     "name": "stderr",
     "output_type": "stream",
     "text": [
      "..\\custom scripts\\spike_prediction\\spike_prediction.py:152: RuntimeWarning: invalid value encountered in less\n",
      "  Y_predict[Y_predict < 0] = 0\n",
      "..\\custom scripts\\spike_prediction\\spike_prediction.py:164: RuntimeWarning: invalid value encountered in less\n",
      "  Y_predict[Y_predict < params['thresh']] = 0\n"
     ]
    },
    {
     "name": "stdout",
     "output_type": "stream",
     "text": [
      "\n",
      "Successfully separated traces into trials and sorted them by neurons.\n",
      "Results are stored in pcf.session and pcf.session_spikes.\n",
      "\n"
     ]
    }
   ],
   "source": [
    "# Initialize PCF object with the raw data (CNM object) and the parameter dict\n",
    "pcf = pc.PlaceCellFinder(cnm, pcf_params)\n",
    "\n",
    "# If necessary, perform Peters spike prediction\n",
    "pcf.cnmf.estimates.spikes = predict_spikes(pcf.cnmf.estimates.F_dff)\n",
    "# pcf.cnmf.estimates.spikes = old.cnmf.estimates.spikes\n",
    "\n",
    "# split traces into trials'\n",
    "pcf.split_traces_into_trials()"
   ]
  },
  {
   "cell_type": "code",
   "execution_count": null,
   "metadata": {},
   "outputs": [],
   "source": [
    "old = pipe.load_pcf(r'W:\\Neurophysiology-Storage1\\Wahl\\Hendrik\\PhD\\Data\\Batch3\\M41\\20200518')"
   ]
  },
  {
   "cell_type": "markdown",
   "metadata": {},
   "source": [
    "### Import behavior, align traces, find significant transients\n",
    "\n",
    "We want to associate the calcium activity with the behavior, i.e. the mouse's position in the VR. We thus have to import the behavior files and align the traces to the VR position. \n",
    "\n",
    "For this, the calcium activity for each trial is averaged over position bins. This means that for every X cm of VR region there is one fluorescence value for each neuron. This brings trials with different lengths into one comparable frame. \n",
    "\n",
    "Additionally, it is advised that frames which were recorded while the mouse was not running are removed. Place cells loose specificity when the mouse is not moving through the environment, so removing resting frames improves place cell performance.\n",
    "\n",
    "Another step is to find significant transients only and create traces where everything except these transients are set to 0.  Significant transients are chosen on the criteria of ``Koay et al. (2019)``. All continuous activity period above 4x noise level are considered transients. Noise level is calculated via FWHM, which is a bit less vulnerable to outliers (very high activity spikes) than \"normal\" standard deviation. The significant-transient-only traces are needed for the place cell detection later."
   ]
  },
  {
   "cell_type": "code",
   "execution_count": 4,
   "metadata": {},
   "outputs": [
    {
     "name": "stdout",
     "output_type": "stream",
     "text": [
      "\n",
      "Successfully aligned calcium data to the VR position bins.\n",
      "Results are stored in pcf.bin_activity and pcf.bin_avg_activity,\n",
      "binned spike rates in pcf.bin_spike_rate and pcf.bin_avg_spike_rate.\n",
      "\n",
      "Successfully created transient-only traces.\n",
      "They are stored in pcf.session_trans.\n"
     ]
    }
   ],
   "source": [
    "# Import behavior and align traces to it, while removing resting frames\n",
    "# pcf.params['bin_length'] = 2.125\n",
    "pcf.import_behavior_and_align_traces()\n",
    "pcf.params['resting_removed'] = True\n",
    "pcf.bin_activity_to_vr(remove_resting=pcf.params['resting_removed'])\n",
    "\n",
    "# # create significant-transient-only traces\n",
    "%matplotlib inline\n",
    "# pcf.params['trans_thresh'] = (2, 0.5)\n",
    "pcf.create_transient_only_traces()"
   ]
  },
  {
   "cell_type": "markdown",
   "metadata": {},
   "source": [
    "### Find place cells\n",
    "\n",
    "Now everything is set to look for place cells in our data. We do the analysis on dF/F data that is binned to the VR position and averaged over trials. This is being done in several steps:\n",
    "\n",
    " - Screen data for potential place fields: Bins where dF/F is higher than 25% of the difference between the baseline and maximum dF/F are considered potential place fields. The baseline activity is taken as the mean of the 25% least active bins.\n",
    " - On these potential place fields, apply three place field criteria:\n",
    "     1. Place field is at least 15 cm (3 bins) wide.\n",
    "     2. The average dF/F of the field is at least 7x higher than the mean dF/F outside the field.\n",
    "     3. The raw, unbinned dF/F trace of this neuron consists of significant transients for at least 20% of the time the mouse spends in the field.\n",
    " - If a field passes all three criteria, perform bootstrapping: \n",
    "     - Shuffle the unbinned dF/F trace of each trial 1000x in 50-frame bits\n",
    "     - Apply place field criteria on every shuffled trace\n",
    "     - If <5% of shuffled traces pass all criteria, the place field is accepted\n",
    "     \n",
    "This is all being done by the main function ``find_place_cells()``."
   ]
  },
  {
   "cell_type": "code",
   "execution_count": 5,
   "metadata": {
    "scrolled": false
   },
   "outputs": [
    {
     "name": "stdout",
     "output_type": "stream",
     "text": [
      "Neuron 69 identified as place cell, but p=0.257.\n",
      "Neuron 191 identified as place cell, but p=0.148.\n",
      "Neuron 222 identified as place cell, but p=0.066.\n",
      "Neuron 580 identified as place cell with p=0.002!\n",
      "Done! 1 place cells found in total!\n"
     ]
    },
    {
     "data": {
      "image/png": "[encoded data removed]",
      "text/plain": [
       "<Figure size 1296x720 with 3 Axes>"
      ]
     },
     "metadata": {
      "needs_background": "light"
     },
     "output_type": "display_data"
    }
   ],
   "source": [
    "# Find place cells\n",
    "pcf.params['trans_time'] = 0.15\n",
    "# pcf.params['place_thresh'] = 0.35\n",
    "pcf.find_place_cells()\n",
    "\n",
    "# Plot place cells\n",
    "pcf.plot_all_place_cells(save=False, show_neuron_id=True)"
   ]
  },
  {
   "cell_type": "code",
   "execution_count": null,
   "metadata": {},
   "outputs": [],
   "source": [
    "# In case the PCF already exists and you just want to update it, you can load it, plot all place cells and then quality check\n",
    "root2 = r'W:\\Neurophysiology-Storage1\\Wahl\\Hendrik\\PhD\\Data\\Batch3\\M39\\20200320'\n",
    "pcf = pipe.load_pcf(root2, 'pcf_results')"
   ]
  },
  {
   "cell_type": "code",
   "execution_count": null,
   "metadata": {
    "scrolled": false
   },
   "outputs": [],
   "source": [
    "# Plot place cells\n",
    "%matplotlib qt\n",
    "pcf.plot_all_place_cells(save=False, show_neuron_id=True)"
   ]
  },
  {
   "cell_type": "markdown",
   "metadata": {},
   "source": [
    "## Place cell quality check\n",
    "\n",
    "To be sure that all place cells are actual place cells, it is wise to do a quality check afterwards.\n",
    "\n",
    "This is first to check if all of the accepted place cells are actual cells and not background noise or duplicate cells. To filter these out, we can plot the contours of all place cells with the ``plot_pc_location()`` function."
   ]
  },
  {
   "cell_type": "code",
   "execution_count": null,
   "metadata": {},
   "outputs": [],
   "source": [
    "pcf.plot_pc_location(display_numbers=True, color='r')"
   ]
  },
  {
   "cell_type": "markdown",
   "metadata": {},
   "source": [
    "Second, if we are sure that these components are true cells, we have to see if they are actually place cells. This should have been determined by the algorithm above, but it is better to check. To do this, we can plot the activity of all trials of a single neuron, not averaged. This way we can see ourselves how much the activity changes from trial to trial and if the classification as a place cell is justified (strong activity primarily at the same location in the corridor). This can be done with the ``plot_individual_neuron()`` function."
   ]
  },
  {
   "cell_type": "code",
   "execution_count": null,
   "metadata": {
    "scrolled": false
   },
   "outputs": [],
   "source": [
    "# go through all place cells and plot single trials by changing the input index (use idx of plot_all_place_cells)\n",
    "%matplotlib inline\n",
    "pcf.plot_individual_neuron(50)"
   ]
  },
  {
   "cell_type": "markdown",
   "metadata": {},
   "source": [
    "If you want to remove a place cell, you can add it to this list below and run the ``reject_place_cell()`` function once you are done (only run this function once because otherwise the indices will change and not be correct anymore!). \n",
    "\n",
    "This moves the corresponding place cells from the ``place_cells`` list into the ``place_cells_reject`` list inside the PCF function. The data will thus not be lost, but the cell will not be counted as a place cell anymore.\n",
    "\n",
    "To ensure that only correct cells are removed, you have to provide the global neuron ID (title of single place cell plots) and not the internal index of the place_cells list."
   ]
  },
  {
   "cell_type": "code",
   "execution_count": null,
   "metadata": {},
   "outputs": [],
   "source": [
    "rejected_cells = [50, 51, 63, 305]\n",
    "\n",
    "pcf.reject_place_cells(rejected_cells)"
   ]
  },
  {
   "cell_type": "code",
   "execution_count": null,
   "metadata": {},
   "outputs": [],
   "source": [
    "accepted_cells = [770, 961, 231, 691, 1131]\n",
    "\n",
    "pcf.accept_place_cells(accepted_cells)"
   ]
  },
  {
   "cell_type": "markdown",
   "metadata": {},
   "source": [
    "Now we are done and can save the final PCF object one time."
   ]
  },
  {
   "cell_type": "code",
   "execution_count": 6,
   "metadata": {},
   "outputs": [
    {
     "name": "stdout",
     "output_type": "stream",
     "text": [
      "Saving...\n",
      "PCF results successfully saved at W:\\Neurophysiology-Storage1\\Wahl\\Hendrik\\PhD\\Data\\Batch3\\M41\\20200902\\pcf_results.pickle\n"
     ]
    }
   ],
   "source": [
    "%matplotlib qt\n",
    "pcf.plot_all_place_cells(save=True, show_neuron_id=True)\n",
    "pcf.save(overwrite=True)"
   ]
  },
  {
   "cell_type": "code",
   "execution_count": null,
   "metadata": {},
   "outputs": [],
   "source": []
  }
 ],
 "metadata": {
  "kernelspec": {
   "display_name": "caiman",
   "language": "python",
   "name": "caiman"
  },
  "language_info": {
   "codemirror_mode": {
    "name": "ipython",
    "version": 3
   },
   "file_extension": ".py",
   "mimetype": "text/x-python",
   "name": "python",
   "nbconvert_exporter": "python",
   "pygments_lexer": "ipython3",
   "version": "3.7.3"
  }
 },
 "nbformat": 4,
 "nbformat_minor": 2
}
