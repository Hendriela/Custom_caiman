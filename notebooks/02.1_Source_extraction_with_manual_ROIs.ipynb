{
 "cells": [
  {
   "cell_type": "markdown",
   "metadata": {},
   "source": [
    "# Source extraction with manually selected cells\n",
    "\n",
    "This is the pipeline for manual source extraction from the motion-corrected memmap file.\n",
    "\n",
    "CaImAn offers the option to substitute the automatic search for cells by a mask of manually selected neurons. This can be useful in cases where CaImAns automatic extraction does not work or simply if you want to do the manual work.\n",
    "\n",
    "To manually select ROIs, we can use Adrians GUI. It loads the local correlation and mean intensity images of a session where we can select coordinates of ROIs. These are exported as a `.txt` file. Different from the automatic extraction, these neuron coordinates are used to create spatial masks with a circular kernel around it (radius = `gSig[0]`). These masks are then fed into the CNMF object which refines the ROI borders and extracts the calcium signal from it.\n",
    "\n",
    "Because manually selected cells are assumed to already be actual cells, we are not performing component evaluation here, but directly detrending the data and saving the finished cnm object."
   ]
  },
  {
   "cell_type": "code",
   "execution_count": 1,
   "metadata": {},
   "outputs": [],
   "source": [
    "# Import packages\n",
    "import sys\n",
    "sys.path.append('../custom scripts/')\n",
    "\n",
    "from caiman.source_extraction import cnmf\n",
    "import place_cell_pipeline as pipe\n",
    "import behavior_import as behavior\n",
    "import caiman as cm\n",
    "import os\n",
    "import matplotlib.pyplot as plt\n",
    "import numpy as np\n",
    "from skimage import io\n",
    "import matplotlib.gridspec as gridspec\n",
    "from datetime import datetime\n",
    "import preprocess as pre\n",
    "\n",
    "# Start cluster for parallel processing\n",
    "c, dview, n_processes = cm.cluster.setup_cluster(backend='local', n_processes=None, single_thread=False)"
   ]
  },
  {
   "cell_type": "markdown",
   "metadata": {},
   "source": [
    "### Define parameters\n",
    "\n",
    "First, we have to define the root directory and source extraction parameters."
   ]
  },
  {
   "cell_type": "code",
   "execution_count": 2,
   "metadata": {},
   "outputs": [],
   "source": [
    "root = r'W:\\Neurophysiology-Storage1\\Wahl\\Hendrik\\PhD\\Data\\Batch3\\M37\\20200323'\n",
    "\n",
    "# dataset dependent parameters\n",
    "fr = 30                       # imaging rate in frames per second\n",
    "decay_time = 0.4              # length of a typical transient in seconds (0.4)\n",
    "dxy = (0.83, 0.76)            # spatial resolution in x and y in (um per pixel) [(1.66, 1.52) for 1x, (0.83, 0.76) for 2x]\n",
    "\n",
    "\n",
    "# extraction parameters\n",
    "p = 1                         # order of the autoregressive system\n",
    "gnb = 2                       # number of global background components (3)\n",
    "merge_thr = 0.75              # merging threshold, max correlation allowed (0.86)\n",
    "rf = 25                       # half-size of the patches in pixels. e.g., if rf=25, patches are 50x50\n",
    "stride_cnmf = 10              # amount of overlap between the patches in pixels (20)\n",
    "K = 12                        # number of components per patch (10)\n",
    "gSig = [12, 12]               # expected half-size of neurons in pixels [X, Y] (has to be int, not float!)                 \n",
    "method_init = 'greedy_roi'    # initialization method (if analyzing dendritic data using 'sparse_nmf')\n",
    "ssub = 2                      # spatial subsampling during initialization\n",
    "tsub = 2                      # temporal subsampling during intialization\n",
    "\n",
    "opts_dict = {'fnames': None,\n",
    "             'nb': gnb,\n",
    "             'rf': rf,\n",
    "             'K': K,\n",
    "             'gSig': gSig,\n",
    "             'stride': stride_cnmf,\n",
    "             'method_init': method_init,\n",
    "             'rolling_sum': True,\n",
    "             'merge_thr': merge_thr,\n",
    "             'only_init': True,\n",
    "             'ssub': ssub,\n",
    "             'tsub': tsub}\n",
    "\n",
    "cnm_params = cnmf.params.CNMFParams(params_dict=opts_dict)\n"
   ]
  },
  {
   "cell_type": "markdown",
   "metadata": {},
   "source": [
    "## Manually select ROIs with Adrians GUI\n",
    "\n",
    "Adrians GUI is useful to set coordinates for neuron-ROIs. It is run by calling the large cell below and loads the images for the session defined by `root`."
   ]
  },
  {
   "cell_type": "code",
   "execution_count": null,
   "metadata": {},
   "outputs": [],
   "source": [
    "%matplotlib qt\n",
    "\n",
    "cor = io.imread(root + r'\\local_correlation_image.tif')\n",
    "avg = io.imread(root + r'\\mean_intensity_image.tif')\n",
    "\n",
    "###  Plot average and correlation image\n",
    "fig = plt.figure()\n",
    "plt.clf()\n",
    "curr_sess = datetime.strptime(os.path.split(root)[1], '%Y%m%d').strftime('%d.%m.%Y')\n",
    "curr_mouse = os.path.split(os.path.split(root)[0])[1]\n",
    "fig.canvas.set_window_title(f'SELECT NEURONS  Mouse: {curr_mouse}  Day: {curr_sess}')\n",
    "\n",
    "gs = gridspec.GridSpec(2, 2, height_ratios=[10, 1])\n",
    "ax0 = plt.subplot(gs[0, 0])\n",
    "ax1 = plt.subplot(gs[0, 1], sharex=ax0, sharey=ax0)\n",
    "txt = plt.subplot(gs[1, 0:2])\n",
    "\n",
    "# text_box = TextBox(txt, 'Status:', initial='Click to select neurons, backspace to remove last neuron, enter when you are done!')\n",
    "txt.text(x=0.3, y=0.1, s='Click to select neurons, backspace to remove last neuron, enter when you are done!')\n",
    "txt.get_xaxis().set_visible(False)\n",
    "txt.get_yaxis().set_visible(False)\n",
    "txt.get_xaxis().set_ticks([])\n",
    "txt.get_yaxis().set_ticks([])\n",
    "\n",
    "# Average image\n",
    "minA, maxA = np.percentile(avg, [5, 99.9])\n",
    "im0 = ax0.imshow(avg, vmin=minA, vmax=maxA)\n",
    "ax0.set_title('Average image')\n",
    "\n",
    "# Correlation image\n",
    "minC, maxC = np.percentile(cor, [5, 99.9])\n",
    "im1 = ax1.imshow(cor, vmin=minC, vmax=maxC)\n",
    "ax1.set_title('Correlation image')\n",
    "\n",
    "# set adjustable colorbar\n",
    "\n",
    "cbar0 = fig.colorbar(im0, ax=ax0, fraction=0.046, pad=0.04)\n",
    "cbar0 = pre.DraggableColorbar(cbar0, ax0, im0, vmin=minA, vmax=maxA)\n",
    "cbar0.connect()\n",
    "\n",
    "cbar1 = fig.colorbar(im1, ax=ax1, fraction=0.046, pad=0.04)\n",
    "cbar1 = pre.DraggableColorbar(cbar1, ax1, im1, vmin=minC, vmax=maxC)\n",
    "cbar1.connect()\n",
    "\n",
    "\n",
    "def drawCross(ax, x=20, y=20):\n",
    "    ax.axvline(x=x, color='w', LineWidth = 0.5)\n",
    "    ax.axhline(y=y, color='w', LineWidth = 0.5)\n",
    "\n",
    "crosses = list()\n",
    "crosses1 = list()\n",
    "pos_x = list()\n",
    "pos_y = list()\n",
    "\n",
    "def func(event, ax, ax1):\n",
    "    x = int(event.xdata)\n",
    "    y = int(event.ydata)\n",
    "\n",
    "    # print('Click location:\\tX: ',x , '\\tY: ', y)\n",
    "\n",
    "    # draw a cross at the click location of axis (also ax1 if not None)\n",
    "    cross = ax.plot(x, y, 'x', color='red')\n",
    "    cross1 = ax1.plot(x, y, 'x', color='red')\n",
    "\n",
    "    crosses.append(cross)\n",
    "    crosses1.append(cross1)\n",
    "    pos_x.append(x)\n",
    "    pos_y.append(y)\n",
    "\n",
    "    ax.figure.canvas.draw()\n",
    "\n",
    "\n",
    "# connect click events to avg and cor axes\n",
    "click = pre.Click(axes=ax0, func=func, second_axes=ax1, button=1)\n",
    "\n",
    "\n",
    "### Read keyboard enter and backspace events\n",
    "def press(event):\n",
    "    if event.key == 'backspace':\n",
    "        print('Removing last element')\n",
    "\n",
    "        # remove last element from list\n",
    "        pos_x.pop()\n",
    "        pos_y.pop()\n",
    "        # remove also from plot and refresh plot\n",
    "        crosses.pop()[0].remove()\n",
    "        crosses1.pop()[0].remove()\n",
    "        ax0.figure.canvas.draw()\n",
    "\n",
    "    if event.key == 'enter':\n",
    "        ### Save the clicked positions to file\n",
    "        file_name = os.path.join(root, 'clicked_neurons_{}.txt'.format(datetime.now().strftime('%Y%m%d_%H%M%S')))\n",
    "\n",
    "        with open(file_name, 'w') as file:\n",
    "            # write header\n",
    "            file.write('Neuron\\tX\\tY\\n')\n",
    "            # write neuron positions in each line\n",
    "            i = 0\n",
    "            for x, y in zip(pos_x, pos_y):\n",
    "                file.write('{}\\t{}\\t{}\\n'.format(i, x, y))\n",
    "                i += 1\n",
    "\n",
    "        print('Wrote positions of {} neurons to file {}'.format(i, file_name))\n",
    "        txt.clear()\n",
    "        txt.text(x=0.3, y=0.1, s='Wrote positions of {} neurons to file {}'.format(i, file_name))\n",
    "        # text_box = TextBox(txt, 'Status:', initial='Wrote positions of {} neurons to file {}'.format(i,file_name))\n",
    "        ax0.figure.canvas.draw()\n",
    "\n",
    "\n",
    "# connect keyboard events\n",
    "fig.canvas.mpl_connect('key_press_event', press)\n",
    "\n",
    "# show the created figure and wait till figure is closed\n",
    "# plt.tight_layout()\n",
    "plt.show()\n",
    "\n"
   ]
  },
  {
   "cell_type": "markdown",
   "metadata": {},
   "source": [
    "## Source extraction\n",
    "\n",
    "Now we can perform the real source extraction. For this we...<br>\n",
    "1. ...load the motion-corrected memmap file,<br>\n",
    "2. ...load the clicked_neuron.txt file that contains manually selected ROIs,<br>\n",
    "3. ...run CaImAns source extraction function on these ROIs,<br>\n",
    "4. ...plot the contours of all components.<br>\n",
    "\n",
    "This all happens under the hood of the `manual_neuron_extraction()` function.\n",
    "\n",
    "Note that if you did several different selection of ROIs in one session, you can specify which .txt file to load by setting the `fname` parameter."
   ]
  },
  {
   "cell_type": "code",
   "execution_count": 4,
   "metadata": {},
   "outputs": [
    {
     "name": "stdout",
     "output_type": "stream",
     "text": [
      "Loading file W:\\Neurophysiology-Storage1\\Wahl\\Hendrik\\PhD\\Data\\Batch3\\M37\\20200323\\memmap__d1_512_d2_472_d3_1_order_C_frames_21453_.mmap...\n",
      "Loading .txt file: clicked_neurons_20200408_100816.txt!\n",
      "spatial support for each components given by the user\n"
     ]
    },
    {
     "name": "stderr",
     "output_type": "stream",
     "text": [
      "C:\\Anaconda3\\envs\\caiman\\lib\\site-packages\\h5py\\_hl\\dataset.py:313: H5pyDeprecationWarning: dataset.value has been deprecated. Use dataset[()] instead.\n",
      "  \"Use dataset[()] instead.\", H5pyDeprecationWarning)\n"
     ]
    }
   ],
   "source": [
    "# Load memmap file\n",
    "mmap_file, images = pipe.load_mmap(root)\n",
    "cnm_params = cnm_params.change_params({'fnames': mmap_file})\n",
    "\n",
    "# Run source extraction with manually selected ROIs\n",
    "cnm = pipe.manual_neuron_extraction(root, images, cnm_params, dview, fname=None)\n",
    "pipe.save_cnmf(cnm, path=os.path.join(root, 'cnm_results_manual.hdf5'), verbose=False, overwrite=False)\n",
    "\n",
    "# Load local correlation image (should have been created during motion correction)\n",
    "cnm.estimates.Cn = io.imread(root + r'\\local_correlation_image.tif')  \n",
    "pipe.save_cnmf(cnm, path=os.path.join(root, 'cnm_results_manual.hdf5'), verbose=False, overwrite=True)\n",
    "\n",
    "# Plot contours of all components\n",
    "%matplotlib qt\n",
    "cnm.estimates.plot_contours(img=cnm.estimates.Cn, display_numbers=True)\n",
    "plt.tight_layout()\n",
    "fig = plt.gcf()\n",
    "fig.set_size_inches((10, 10))\n",
    "plt.savefig(os.path.join(root, 'components_manual.png'))"
   ]
  },
  {
   "cell_type": "markdown",
   "metadata": {},
   "source": [
    "### Detrending\n",
    "\n",
    "Now that we have our refined ROIs and the corresponding calcium traces, we can skip the evaluation step as mentioned above and directly detrend the data to get the dF/F traces for the neurons.\n",
    "\n",
    "We can also apply Peter's spike prediction algorithm on the dataset to get a summable estimate of spikes in the signal. These can be saved in `cnm.estimates.spikes`."
   ]
  },
  {
   "cell_type": "code",
   "execution_count": 5,
   "metadata": {},
   "outputs": [
    {
     "name": "stderr",
     "output_type": "stream",
     "text": [
      "C:\\Anaconda3\\envs\\caiman\\lib\\site-packages\\h5py\\_hl\\dataset.py:313: H5pyDeprecationWarning: dataset.value has been deprecated. Use dataset[()] instead.\n",
      "  \"Use dataset[()] instead.\", H5pyDeprecationWarning)\n"
     ]
    }
   ],
   "source": [
    "cnm.params.data['dff_window'] = int(cnm.estimates.C.shape[1]/4)\n",
    "cnm.estimates.detrend_df_f(quantileMin=8, frames_window=cnm.params.data['dff_window'])\n",
    "cnm.estimates.spikes = \n",
    "# Save complete CNMF results\n",
    "pipe.save_cnmf(cnm, path=os.path.join(root, 'cnm_results_manual.hdf5'), overwrite=True, verbose=False)"
   ]
  },
  {
   "cell_type": "code",
   "execution_count": null,
   "metadata": {},
   "outputs": [],
   "source": [
    "%matplotlib qt\n",
    "# Plot contours of all components\n",
    "cnm.estimates.plot_contours(img=cnm.estimates.Cn, display_numbers=True)\n",
    "plt.tight_layout()"
   ]
  },
  {
   "cell_type": "code",
   "execution_count": null,
   "metadata": {},
   "outputs": [],
   "source": [
    "pipe.save_cnmf(cnm, path=os.path.join(root, 'cnm_results_manual_2.hdf5'), overwrite=True, verbose=False)"
   ]
  },
  {
   "cell_type": "code",
   "execution_count": null,
   "metadata": {},
   "outputs": [],
   "source": [
    "plt.figure()\n",
    "plt.plot(cnm.estimates.C[120])"
   ]
  },
  {
   "cell_type": "code",
   "execution_count": null,
   "metadata": {},
   "outputs": [],
   "source": [
    "cnm.params.get('temporal', 'p')"
   ]
  },
  {
   "cell_type": "code",
   "execution_count": null,
   "metadata": {},
   "outputs": [],
   "source": [
    "\n",
    "# Export memmap\n",
    "file = 'motionCorrected_session.tif'\n",
    "\n",
    "path = os.path.join(root, file)\n",
    "\n",
    "# load memory mapped file and transform it to 16bit and C order\n",
    "import caiman as cm\n",
    "\n",
    "corrected = cm.load(mmap_file)    # frames x height x width\n",
    "\n",
    "corrected_int = np.array(corrected[:-1,:,:] , dtype='int16' )\n",
    "corrected = None   # save memory\n",
    "\n",
    "toSave_cOrder = corrected_int.copy(order='C')\n",
    "corrected_int = None   # save memory\n",
    "\n",
    "# if this throws an error, the tifffile version might be too old\n",
    "# print('Tifffile version: {}'.format(tif.__version__) )\n",
    "# upgrade it with: !pip install --upgrade tifffile\n",
    "import tifffile as tif\n",
    "tif.imwrite( path, data=toSave_cOrder)"
   ]
  }
 ],
 "metadata": {
  "kernelspec": {
   "display_name": "caiman",
   "language": "python",
   "name": "caiman"
  },
  "language_info": {
   "codemirror_mode": {
    "name": "ipython",
    "version": 3
   },
   "file_extension": ".py",
   "mimetype": "text/x-python",
   "name": "python",
   "nbconvert_exporter": "python",
   "pygments_lexer": "ipython3",
   "version": "3.7.3"
  }
 },
 "nbformat": 4,
 "nbformat_minor": 2
}
