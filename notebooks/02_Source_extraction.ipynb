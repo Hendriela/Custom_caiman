{
 "cells": [
  {
   "cell_type": "markdown",
   "metadata": {},
   "source": [
    "# First source extraction\n",
    "\n",
    "This is the pipeline for initial source extraction from the motion-corrected memmap file.\n",
    "\n",
    "It loads the memmap file in the provided root directory, performs CaImAns source extraction based on the given parameters, calculates the local correlation image which is used as a background for the session, saves a plot of all component contours and saves the CNM object in the root directory.\n"
   ]
  },
  {
   "cell_type": "code",
   "execution_count": 1,
   "metadata": {},
   "outputs": [
    {
     "name": "stderr",
     "output_type": "stream",
     "text": [
      "Using TensorFlow backend.\n"
     ]
    }
   ],
   "source": [
    "# Import packages\n",
    "import sys\n",
    "sys.path.append('../custom scripts/')\n",
    "\n",
    "from caiman.source_extraction import cnmf\n",
    "import standard_pipeline.place_cell_pipeline as pipe\n",
    "import standard_pipeline.behavior_import as behavior\n",
    "import caiman as cm\n",
    "import os\n",
    "import matplotlib.pyplot as plt\n",
    "import numpy as np\n",
    "from skimage import io\n",
    "\n",
    "# Start cluster for parallel processing\n",
    "c, dview, n_processes = cm.cluster.setup_cluster(backend='local', n_processes=None, single_thread=False)"
   ]
  },
  {
   "cell_type": "markdown",
   "metadata": {},
   "source": [
    "## Source extraction\n",
    "\n",
    "### Define parameters\n",
    "\n",
    "First, we have to define the root directory and source extraction parameters."
   ]
  },
  {
   "cell_type": "code",
   "execution_count": 6,
   "metadata": {},
   "outputs": [],
   "source": [
    "# dataset dependent parameters\n",
    "root = r'W:\\Neurophysiology-Storage1\\Wahl\\Jithin\\imaging\\Batch 1\\M12_Post_Stroke_Caudal\\29\\Caudal'\n",
    "\n",
    "fr = 30  # imaging rate in frames per second\n",
    "decay_time = 0.4  # length of a typical transient in seconds (0.4)\n",
    "dxy = (0.83, 0.76)  # spatial resolution (um per pixel) [(1.66, 1.52) for 1x, (0.83, 0.76) for 2x]\n",
    "\n",
    "# extraction parameters\n",
    "p = 1  # order of the autoregressive system\n",
    "gnb = 2  # number of global background components (3)\n",
    "merge_thr = 0.75  # merging threshold, max correlation allowed (0.86)\n",
    "rf = 25  # half-size of the patches in pixels. e.g., if rf=25, patches are 50x50\n",
    "stride_cnmf = 10  # amount of overlap between the patches in pixels (20)\n",
    "K = 4  # number of components per patch (10)\n",
    "gSig = [5, 5]  # expected half-size of neurons in pixels [X, Y] (has to be int, not float!)\n",
    "method_init = 'greedy_roi'  # initialization method (if analyzing dendritic data using 'sparse_nmf')\n",
    "ssub = 2  # spatial subsampling during initialization\n",
    "tsub = 2  # temporal subsampling during intialization\n",
    "\n",
    "\n",
    "opts_dict = {'fnames': None,\n",
    "             'fr': fr,\n",
    "             'decay_time': decay_time,\n",
    "             'dxy': dxy,\n",
    "             'nb': gnb,\n",
    "             'rf': rf,\n",
    "             'K': K,\n",
    "             'gSig': gSig,\n",
    "             'stride': stride_cnmf,\n",
    "             'method_init': method_init,\n",
    "             'rolling_sum': True,\n",
    "             'merge_thr': merge_thr,\n",
    "             'only_init': True,\n",
    "             'ssub': ssub,\n",
    "             'tsub': tsub}\n",
    "\n",
    "cnm_params = cnmf.params.CNMFParams(params_dict=opts_dict)\n"
   ]
  },
  {
   "cell_type": "code",
   "execution_count": null,
   "metadata": {},
   "outputs": [],
   "source": [
    "root = r'W:\\Neurophysiology-Storage1\\Wahl\\Hendrik\\PhD\\Data\\Batch3\\M41\\20200513'\n",
    "pipe.load_cnmf(root).params"
   ]
  },
  {
   "cell_type": "markdown",
   "metadata": {},
   "source": [
    "### Source extraction\n",
    "\n",
    "Now we can perform the real source extraction. For this we...<br>\n",
    "1. ...load the motion-corrected memmap file,<br>\n",
    "2. ...run CaImAns source extraction function,<br>\n",
    "3. ...calculate the local correlation image of the session which is used as a reference image,<br>\n",
    "4. ...plot the contours of all detected components for later inspection.<br>\n",
    "\n",
    "We also save the results in a CNM object after every step so that we dont loose data after an error occurs."
   ]
  },
  {
   "cell_type": "code",
   "execution_count": 7,
   "metadata": {},
   "outputs": [
    {
     "ename": "FileNotFoundError",
     "evalue": "No mmap file found in W:\\Neurophysiology-Storage1\\Wahl\\Jithin\\imaging\\Batch 1\\M12_Post_Stroke_Caudal\\29\\Caudal.",
     "output_type": "error",
     "traceback": [
      "\u001b[1;31m---------------------------------------------------------------------------\u001b[0m",
      "\u001b[1;31mFileNotFoundError\u001b[0m                         Traceback (most recent call last)",
      "\u001b[1;32m<ipython-input-7-51af8a818f60>\u001b[0m in \u001b[0;36m<module>\u001b[1;34m\u001b[0m\n\u001b[0;32m      1\u001b[0m \u001b[1;31m# Load memmap file\u001b[0m\u001b[1;33m\u001b[0m\u001b[1;33m\u001b[0m\u001b[1;33m\u001b[0m\u001b[0m\n\u001b[1;32m----> 2\u001b[1;33m \u001b[0mmmap_file\u001b[0m\u001b[1;33m,\u001b[0m \u001b[0mimages\u001b[0m \u001b[1;33m=\u001b[0m \u001b[0mpipe\u001b[0m\u001b[1;33m.\u001b[0m\u001b[0mload_mmap\u001b[0m\u001b[1;33m(\u001b[0m\u001b[0mroot\u001b[0m\u001b[1;33m)\u001b[0m\u001b[1;33m\u001b[0m\u001b[1;33m\u001b[0m\u001b[0m\n\u001b[0m\u001b[0;32m      3\u001b[0m \u001b[1;31m# cnm_params = cnm_params.change_params({'fnames': mmap_file})\u001b[0m\u001b[1;33m\u001b[0m\u001b[1;33m\u001b[0m\u001b[1;33m\u001b[0m\u001b[0m\n\u001b[0;32m      4\u001b[0m \u001b[1;33m\u001b[0m\u001b[0m\n\u001b[0;32m      5\u001b[0m \u001b[1;31m# # Run source extraction\u001b[0m\u001b[1;33m\u001b[0m\u001b[1;33m\u001b[0m\u001b[1;33m\u001b[0m\u001b[0m\n",
      "\u001b[1;32m~\\PycharmProjects\\Caiman\\custom scripts\\standard_pipeline\\place_cell_pipeline.py\u001b[0m in \u001b[0;36mload_mmap\u001b[1;34m(root, fname)\u001b[0m\n\u001b[0;32m    101\u001b[0m             \u001b[1;32mreturn\u001b[0m \u001b[0mos\u001b[0m\u001b[1;33m.\u001b[0m\u001b[0mpath\u001b[0m\u001b[1;33m.\u001b[0m\u001b[0mjoin\u001b[0m\u001b[1;33m(\u001b[0m\u001b[0mroot\u001b[0m\u001b[1;33m,\u001b[0m \u001b[0mfname\u001b[0m\u001b[1;33m)\u001b[0m\u001b[1;33m,\u001b[0m \u001b[0mimages\u001b[0m\u001b[1;33m\u001b[0m\u001b[1;33m\u001b[0m\u001b[0m\n\u001b[0;32m    102\u001b[0m     \u001b[1;32melif\u001b[0m \u001b[0mlen\u001b[0m\u001b[1;33m(\u001b[0m\u001b[0mmmap_file\u001b[0m\u001b[1;33m)\u001b[0m \u001b[1;33m<\u001b[0m \u001b[1;36m1\u001b[0m\u001b[1;33m:\u001b[0m\u001b[1;33m\u001b[0m\u001b[1;33m\u001b[0m\u001b[0m\n\u001b[1;32m--> 103\u001b[1;33m         \u001b[1;32mraise\u001b[0m \u001b[0mFileNotFoundError\u001b[0m\u001b[1;33m(\u001b[0m\u001b[1;34mf'No mmap file found in {root}.'\u001b[0m\u001b[1;33m)\u001b[0m\u001b[1;33m\u001b[0m\u001b[1;33m\u001b[0m\u001b[0m\n\u001b[0m\u001b[0;32m    104\u001b[0m     \u001b[1;32melse\u001b[0m\u001b[1;33m:\u001b[0m\u001b[1;33m\u001b[0m\u001b[1;33m\u001b[0m\u001b[0m\n\u001b[0;32m    105\u001b[0m         \u001b[0mprint\u001b[0m\u001b[1;33m(\u001b[0m\u001b[1;34mf'Loading file {mmap_file[0]}...'\u001b[0m\u001b[1;33m)\u001b[0m\u001b[1;33m\u001b[0m\u001b[1;33m\u001b[0m\u001b[0m\n",
      "\u001b[1;31mFileNotFoundError\u001b[0m: No mmap file found in W:\\Neurophysiology-Storage1\\Wahl\\Jithin\\imaging\\Batch 1\\M12_Post_Stroke_Caudal\\29\\Caudal."
     ]
    }
   ],
   "source": [
    "# Load memmap file\n",
    "mmap_file, images = pipe.load_mmap(root)\n",
    "# cnm_params = cnm_params.change_params({'fnames': mmap_file})\n",
    "\n",
    "# # Run source extraction\n",
    "cnm = pipe.run_source_extraction(images, cnm_params, dview=dview)\n",
    "pipe.save_cnmf(cnm, path=os.path.join(root, 'cnm_pre_selection.hdf5'), verbose=False, overwrite=True)\n",
    "\n",
    "# Load local correlation image (should have been created during motion correction)\n",
    "try:\n",
    "    cnm.estimates.Cn = io.imread(root + r'\\local_correlation_image.tif')\n",
    "except FileNotFoundError:\n",
    "    pipe.save_local_correlation(images, root)\n",
    "    cnm.estimates.Cn = io.imread(root + r'\\local_correlation_image.tif')\n",
    "pipe.save_cnmf(cnm, path=os.path.join(root, 'cnm_pre_selection.hdf5'), verbose=False, overwrite=True)\n",
    "\n",
    "# Plot and save contours of all components\n",
    "cnm.estimates.plot_contours(img=cnm.estimates.Cn, display_numbers=False)\n",
    "plt.tight_layout()\n",
    "fig = plt.gcf()\n",
    "fig.set_size_inches((10, 10))\n",
    "plt.savefig(os.path.join(root, 'pre_sel_components.png'))\n",
    "pipe.save_cnmf(cnm, path=os.path.join(root, 'cnm_pre_selection.hdf5'), verbose=False, overwrite=True)"
   ]
  },
  {
   "cell_type": "code",
   "execution_count": null,
   "metadata": {},
   "outputs": [],
   "source": [
    "pipe.save_cnmf(cnm, path=os.path.join(root, 'cnm_pre_selection.hdf5'), verbose=False, overwrite=True)\n",
    "del mmap_file"
   ]
  },
  {
   "cell_type": "code",
   "execution_count": null,
   "metadata": {},
   "outputs": [],
   "source": [
    "%matplotlib qt\n",
    "cnm.estimates.plot_contours(img=cnm.estimates.Cn, display_numbers=False)"
   ]
  },
  {
   "cell_type": "markdown",
   "metadata": {},
   "source": [
    "### Done!\n",
    "\n",
    "If the initial extraction looks good, you can continue to the evaluation in the [component evaluation](.//Component_evaluation.ipynb) notebook.\n",
    "Otherwise just run the extraction again with different parameters."
   ]
  }
 ],
 "metadata": {
  "kernelspec": {
   "display_name": "caiman",
   "language": "python",
   "name": "caiman"
  },
  "language_info": {
   "codemirror_mode": {
    "name": "ipython",
    "version": 3
   },
   "file_extension": ".py",
   "mimetype": "text/x-python",
   "name": "python",
   "nbconvert_exporter": "python",
   "pygments_lexer": "ipython3",
   "version": "3.7.3"
  }
 },
 "nbformat": 4,
 "nbformat_minor": 2
}
