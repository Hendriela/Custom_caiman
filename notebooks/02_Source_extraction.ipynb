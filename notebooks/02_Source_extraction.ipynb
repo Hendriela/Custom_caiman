{
 "cells": [
  {
   "cell_type": "markdown",
   "metadata": {},
   "source": [
    "# First source extraction\n",
    "\n",
    "This is the pipeline for initial source extraction from the motion-corrected memmap file.\n",
    "\n",
    "It loads the memmap file in the provided root directory, performs CaImAns source extraction based on the given parameters, calculates the local correlation image which is used as a background for the session, saves a plot of all component contours and saves the CNM object in the root directory.\n"
   ]
  },
  {
   "cell_type": "code",
   "execution_count": 1,
   "metadata": {},
   "outputs": [],
   "source": [
    "# Import packages\n",
    "import sys\n",
    "sys.path.append('../custom scripts/')\n",
    "\n",
    "from caiman.source_extraction import cnmf\n",
    "import place_cell_pipeline as pipe\n",
    "import behavior_import as behavior\n",
    "import caiman as cm\n",
    "import os\n",
    "import matplotlib.pyplot as plt\n",
    "import numpy as np\n",
    "from skimage import io\n",
    "\n",
    "# Start cluster for parallel processing\n",
    "c, dview, n_processes = cm.cluster.setup_cluster(backend='local', n_processes=None, single_thread=False)"
   ]
  },
  {
   "cell_type": "markdown",
   "metadata": {},
   "source": [
    "## Source extraction\n",
    "\n",
    "### Define parameters\n",
    "\n",
    "First, we have to define the root directory and source extraction parameters."
   ]
  },
  {
   "cell_type": "code",
   "execution_count": 2,
   "metadata": {},
   "outputs": [],
   "source": [
    "root = r'W:\\Neurophysiology-Storage1\\Wahl\\Hendrik\\PhD\\Data\\Batch3\\M38\\20200323'\n",
    "\n",
    "# dataset dependent parameters\n",
    "fr = 30                       # imaging rate in frames per second\n",
    "decay_time = 0.4              # length of a typical transient in seconds (0.4)\n",
    "dxy = (1.66, 1.52)            # spatial resolution in x and y in (um per pixel) [(1.66, 1.52) for 1x, (0.83, 0.76) for 2x]\n",
    "\n",
    "\n",
    "# extraction parameters\n",
    "p = 1                         # order of the autoregressive system\n",
    "gnb = 3                       # number of global background components (3)\n",
    "merge_thr = 0.75              # merging threshold, max correlation allowed (0.86)\n",
    "rf = 25                       # half-size of the patches in pixels. e.g., if rf=25, patches are 50x50\n",
    "stride_cnmf = 10              # amount of overlap between the patches in pixels (20)\n",
    "K = 15                        # number of components per patch (10)\n",
    "gSig = [6, 6]                 # expected half-size of neurons in pixels [X, Y] (has to be int, not float!)                 \n",
    "method_init = 'greedy_roi'    # initialization method (if analyzing dendritic data using 'sparse_nmf')\n",
    "ssub = 2                      # spatial subsampling during initialization\n",
    "tsub = 2                      # temporal subsampling during intialization\n",
    "\n",
    "opts_dict = {'fnames': None,\n",
    "             'nb': gnb,\n",
    "             'rf': rf,\n",
    "             'K': K,\n",
    "             'gSig': gSig,\n",
    "             'stride': stride_cnmf,\n",
    "             'method_init': method_init,\n",
    "             'rolling_sum': True,\n",
    "             'merge_thr': merge_thr,\n",
    "             'only_init': True,\n",
    "             'ssub': ssub,\n",
    "             'tsub': tsub}\n",
    "\n",
    "cnm_params = cnmf.params.CNMFParams(params_dict=opts_dict)\n"
   ]
  },
  {
   "cell_type": "markdown",
   "metadata": {},
   "source": [
    "### Source extraction\n",
    "\n",
    "Now we can perform the real source extraction. For this we...<br>\n",
    "1. ...load the motion-corrected memmap file,<br>\n",
    "2. ...run CaImAns source extraction function,<br>\n",
    "3. ...calculate the local correlation image of the session which is used as a reference image,<br>\n",
    "4. ...plot the contours of all detected components for later inspection.<br>\n",
    "\n",
    "We also save the results in a CNM object after every step so that we dont loose data after an error occurs."
   ]
  },
  {
   "cell_type": "code",
   "execution_count": null,
   "metadata": {},
   "outputs": [
    {
     "name": "stdout",
     "output_type": "stream",
     "text": [
      "Loading file W:\\Neurophysiology-Storage1\\Wahl\\Hendrik\\PhD\\Data\\Batch3\\M38\\20200323\\memmap__d1_512_d2_512_d3_1_order_C_frames_35541_.mmap...\n"
     ]
    }
   ],
   "source": [
    "# Load memmap file\n",
    "mmap_file, images = pipe.load_mmap(root)\n",
    "cnm_params = cnm_params.change_params({'fnames': mmap_file})\n",
    "\n",
    "# Run source extraction\n",
    "cnm = pipe.run_source_extraction(images, cnm_params, dview=dview)\n",
    "pipe.save_cnmf(cnm, path=os.path.join(root, 'cnm_pre_selection.hdf5'), verbose=False, overwrite=False)\n",
    "\n",
    "# Load local correlation image (should have been created during motion correction)\n",
    "try:\n",
    "    cnm.estimates.Cn = io.imread(root + r'\\local_correlation_image.tif')\n",
    "except FileNotFoundError:\n",
    "    pipe.save_local_correlation(images, root)\n",
    "    cnm.estimates.Cn = io.imread(root + r'\\local_correlation_image.tif')\n",
    "pipe.save_cnmf(cnm, path=os.path.join(root, 'cnm_pre_selection.hdf5'), verbose=False, overwrite=True)\n",
    "\n",
    "# Plot contours of all components\n",
    "cnm.estimates.plot_contours(img=cnm.estimates.Cn, display_numbers=False)\n",
    "plt.tight_layout()\n",
    "fig = plt.gcf()\n",
    "fig.set_size_inches((10, 10))\n",
    "plt.savefig(os.path.join(root, 'pre_sel_components.png'))\n",
    "pipe.save_cnmf(cnm, path=os.path.join(root, 'cnm_pre_selection.hdf5'), verbose=False, overwrite=True)"
   ]
  },
  {
   "cell_type": "markdown",
   "metadata": {},
   "source": [
    "### Done!\n",
    "\n",
    "If the initial extraction looks good, you can continue to the evaluation in the [component evaluation](.//Component_evaluation.ipynb) notebook.\n",
    "Otherwise do the extraction again while keeping the lcm in the secondary_extraction notebook."
   ]
  },
  {
   "cell_type": "markdown",
   "metadata": {},
   "source": [
    "## Second source extraction\n",
    "\n",
    "If the extraction does not look good and you want to rerun it, you can change the parameters in the cell above, but change some steps from the initial extraction. Mainly you can load the CNM object that was created and keep the local correlation image from it, so you dont have to re-calculate it (does not change from parameters and saves you a lot of time, especially with large files)."
   ]
  },
  {
   "cell_type": "code",
   "execution_count": null,
   "metadata": {},
   "outputs": [],
   "source": [
    "# Load memmap file\n",
    "mmap_file, images = pipe.load_mmap(root)\n",
    "cnm = pipe.load_cnmf(root, 'cnm_pre_selection.hdf5')\n",
    "\n",
    "# Save local correlation image\n",
    "lcm = cnm.estimates.Cn.copy()\n",
    "\n",
    "# Re-run source extraction\n",
    "cnm = pipe.run_source_extraction(images, cnm_params, dview=dview)\n",
    "\n",
    "# Put in local correlation image from earlier\n",
    "cnm.estimates.Cn = lcm\n",
    "\n",
    "# Plot contours of all components and save\n",
    "cnm.estimates.plot_contours(img=cnm.estimates.Cn, display_numbers=False)\n",
    "plt.tight_layout()\n",
    "fig = plt.gcf()\n",
    "fig.set_size_inches((10, 10))\n",
    "plt.savefig(os.path.join(root, 'pre_sel_components.png'))\n",
    "pipe.save_cnmf(cnm, path=os.path.join(root, 'cnm_pre_selection.hdf5'), verbose=False, overwrite=True)"
   ]
  },
  {
   "cell_type": "code",
   "execution_count": null,
   "metadata": {},
   "outputs": [],
   "source": [
    "cnm = pipe.load_cnmf(root, 'cnm_pre_selection_2.hdf5')\n",
    "\n",
    "# Put in local correlation image from earlier\n",
    "cnm.estimates.Cn = lcm\n",
    "\n",
    "# Plot contours of all components and save\n",
    "cnm.estimates.plot_contours(img=cnm.estimates.Cn, display_numbers=False)\n",
    "plt.tight_layout()\n",
    "fig = plt.gcf()\n",
    "fig.set_size_inches((10, 10))\n",
    "plt.savefig(os.path.join(root, 'pre_sel_components_2.png'))\n",
    "pipe.save_cnmf(cnm, path=os.path.join(root, 'cnm_pre_selection_2.hdf5'), verbose=False, overwrite=True)"
   ]
  },
  {
   "cell_type": "code",
   "execution_count": null,
   "metadata": {},
   "outputs": [],
   "source": [
    "%matplotlib qt\n",
    "cnm.estimates.plot_contours(img=cnm.estimates.Cn, display_numbers=True)\n"
   ]
  },
  {
   "cell_type": "code",
   "execution_count": null,
   "metadata": {},
   "outputs": [],
   "source": [
    "plt.plot(cnm.estimates.C[586])"
   ]
  }
 ],
 "metadata": {
  "kernelspec": {
   "display_name": "caiman",
   "language": "python",
   "name": "caiman"
  },
  "language_info": {
   "codemirror_mode": {
    "name": "ipython",
    "version": 3
   },
   "file_extension": ".py",
   "mimetype": "text/x-python",
   "name": "python",
   "nbconvert_exporter": "python",
   "pygments_lexer": "ipython3",
   "version": "3.7.3"
  }
 },
 "nbformat": 4,
 "nbformat_minor": 2
}
