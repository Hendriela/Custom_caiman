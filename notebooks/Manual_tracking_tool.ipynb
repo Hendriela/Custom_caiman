{
 "cells": [
  {
   "cell_type": "code",
   "execution_count": 1,
   "metadata": {},
   "outputs": [
    {
     "name": "stderr",
     "output_type": "stream",
     "text": [
      "Using TensorFlow backend.\n"
     ]
    }
   ],
   "source": [
    "import sys\n",
    "sys.path.append('../custom scripts/')\n",
    "\n",
    "import multisession_analysis.multisession_registration as tracker"
   ]
  },
  {
   "cell_type": "code",
   "execution_count": 2,
   "metadata": {},
   "outputs": [],
   "source": [
    "# Which sessions should be aligned?\n",
    "session_list = [r'W:\\Neurophysiology-Storage1\\Wahl\\Hendrik\\PhD\\Data\\Batch3\\M38\\20200818',\n",
    "                r'W:\\Neurophysiology-Storage1\\Wahl\\Hendrik\\PhD\\Data\\Batch3\\M38\\20200819',\n",
    "                r'W:\\Neurophysiology-Storage1\\Wahl\\Hendrik\\PhD\\Data\\Batch3\\M38\\20200820',\n",
    "                r'W:\\Neurophysiology-Storage1\\Wahl\\Hendrik\\PhD\\Data\\Batch3\\M38\\20200821',\n",
    "                r'W:\\Neurophysiology-Storage1\\Wahl\\Hendrik\\PhD\\Data\\Batch3\\M38\\20200824',\n",
    "                r'W:\\Neurophysiology-Storage1\\Wahl\\Hendrik\\PhD\\Data\\Batch3\\M38\\20200826',\n",
    "                r'W:\\Neurophysiology-Storage1\\Wahl\\Hendrik\\PhD\\Data\\Batch3\\M38\\20200827',\n",
    "                r'W:\\Neurophysiology-Storage1\\Wahl\\Hendrik\\PhD\\Data\\Batch3\\M38\\20200830',\n",
    "                r'W:\\Neurophysiology-Storage1\\Wahl\\Hendrik\\PhD\\Data\\Batch3\\M38\\20200902',\n",
    "                r'W:\\Neurophysiology-Storage1\\Wahl\\Hendrik\\PhD\\Data\\Batch3\\M38\\20200905',\n",
    "                r'W:\\Neurophysiology-Storage1\\Wahl\\Hendrik\\PhD\\Data\\Batch3\\M38\\20200908',\n",
    "                r'W:\\Neurophysiology-Storage1\\Wahl\\Hendrik\\PhD\\Data\\Batch3\\M38\\20200911']\n",
    "\n",
    "# Which session should be the reference (place cells from this session will be tracked)\n",
    "reference_session = '20200826'"
   ]
  },
  {
   "cell_type": "code",
   "execution_count": 4,
   "metadata": {},
   "outputs": [
    {
     "name": "stdout",
     "output_type": "stream",
     "text": [
      "Loading file W:\\Neurophysiology-Storage1\\Wahl\\Hendrik\\PhD\\Data\\Batch3\\M38\\20200818\\pcf_results.pickle...\n",
      "Successfully loaded data from Batch3\\M38\\20200818 (1/12).\n",
      "Loading file W:\\Neurophysiology-Storage1\\Wahl\\Hendrik\\PhD\\Data\\Batch3\\M38\\20200819\\pcf_results.pickle...\n",
      "Successfully loaded data from Batch3\\M38\\20200819 (2/12).\n",
      "Loading file W:\\Neurophysiology-Storage1\\Wahl\\Hendrik\\PhD\\Data\\Batch3\\M38\\20200820\\pcf_results.pickle...\n",
      "Successfully loaded data from Batch3\\M38\\20200820 (3/12).\n",
      "Loading file W:\\Neurophysiology-Storage1\\Wahl\\Hendrik\\PhD\\Data\\Batch3\\M38\\20200821\\pcf_results.pickle...\n",
      "Successfully loaded data from Batch3\\M38\\20200821 (4/12).\n",
      "Loading file W:\\Neurophysiology-Storage1\\Wahl\\Hendrik\\PhD\\Data\\Batch3\\M38\\20200824\\pcf_results.pickle...\n",
      "Successfully loaded data from Batch3\\M38\\20200824 (5/12).\n",
      "Loading file W:\\Neurophysiology-Storage1\\Wahl\\Hendrik\\PhD\\Data\\Batch3\\M38\\20200826\\pcf_results.pickle...\n",
      "Successfully loaded data from Batch3\\M38\\20200826 (6/12).\n",
      "Loading file W:\\Neurophysiology-Storage1\\Wahl\\Hendrik\\PhD\\Data\\Batch3\\M38\\20200827\\pcf_results.pickle...\n",
      "Successfully loaded data from Batch3\\M38\\20200827 (7/12).\n",
      "Loading file W:\\Neurophysiology-Storage1\\Wahl\\Hendrik\\PhD\\Data\\Batch3\\M38\\20200830\\pcf_results.pickle...\n",
      "Successfully loaded data from Batch3\\M38\\20200830 (8/12).\n",
      "Loading file W:\\Neurophysiology-Storage1\\Wahl\\Hendrik\\PhD\\Data\\Batch3\\M38\\20200902\\pcf_results.pickle...\n",
      "Successfully loaded data from Batch3\\M38\\20200902 (9/12).\n",
      "Loading file W:\\Neurophysiology-Storage1\\Wahl\\Hendrik\\PhD\\Data\\Batch3\\M38\\20200905\\pcf_results.pickle...\n",
      "Successfully loaded data from Batch3\\M38\\20200905 (10/12).\n",
      "Loading file W:\\Neurophysiology-Storage1\\Wahl\\Hendrik\\PhD\\Data\\Batch3\\M38\\20200908\\pcf_results.pickle...\n",
      "Successfully loaded data from Batch3\\M38\\20200908 (11/12).\n",
      "Loading file W:\\Neurophysiology-Storage1\\Wahl\\Hendrik\\PhD\\Data\\Batch3\\M38\\20200911\\pcf_results.pickle...\n",
      "Successfully loaded data from Batch3\\M38\\20200911 (12/12).\n"
     ]
    }
   ],
   "source": [
    "# This function loads the data of all sessions and stores it in the list \"pcf_objects\"\n",
    "spatial, templates, dim, pcf_objects = tracker.load_multisession_data(session_list)"
   ]
  },
  {
   "cell_type": "code",
   "execution_count": 5,
   "metadata": {},
   "outputs": [],
   "source": [
    "# This function prepares the data for the tracking process\n",
    "target_session_list, place_cell_indices, alignment_array, all_contours_list, all_shifts_list = tracker.prepare_manual_alignment_data(\n",
    "                                                                                                          pcf_objects, reference_session)\n"
   ]
  },
  {
   "cell_type": "code",
   "execution_count": null,
   "metadata": {},
   "outputs": [],
   "source": [
    "# If you started to align the place cells of this session, but saved the table incomplete and want to continue, you can\n",
    "# load the table with this function and pick up where you left. Note that the file path should include the \n",
    "# file name and extension\n",
    "file_path = r'W:\\Neurophysiology-Storage1\\Wahl\\Hendrik\\PhD\\Data\\Batch3\\batch_processing\\cell_alignments\\pc_alignment_20200826.txt'\n",
    "alignment_array = tracker.load_alignment(file_path)"
   ]
  },
  {
   "cell_type": "code",
   "execution_count": 6,
   "metadata": {},
   "outputs": [
    {
     "name": "stdout",
     "output_type": "stream",
     "text": [
      "Reference cell 0, clicked neuron (0, 0, 56).\n",
      "Reference cell 0, clicked neuron (0, 1, 161).\n",
      "Reference cell 0, clicked neuron (0, 2, 38).\n",
      "Reference cell 0, clicked neuron (0, 3, 35).\n",
      "Reference cell 0, clicked neuron (0, 4, 41).\n",
      "Reference cell 0, clicked neuron (0, 6, 149).\n",
      "Reference cell 0, clicked neuron (0, 7, 43).\n",
      "Reference cell 0, clicked neuron (0, 8, -1).\n"
     ]
    }
   ],
   "source": [
    "# This is the main function for the tracking. It creates the interactive plot and saves the results in the\n",
    "# alignment_array, which has one place cell for each row, one session in each column, and each entry is the \n",
    "# neuron ID that the reference cell has in each session.\n",
    "%matplotlib qt\n",
    "alignment_array = tracker.manual_place_cell_alignment(pcf_sessions=pcf_objects,\n",
    "                                                      target_sessions=target_session_list,\n",
    "                                                      cell_idx=place_cell_indices,\n",
    "                                                      alignment=alignment_array,\n",
    "                                                      all_contours=all_contours_list,\n",
    "                                                      all_shifts=all_shifts_list,\n",
    "                                                      ref_sess=reference_session,\n",
    "                                                      dim=dim,\n",
    "                                                      show_neuron_id=True)"
   ]
  },
  {
   "cell_type": "code",
   "execution_count": 8,
   "metadata": {},
   "outputs": [],
   "source": [
    "# In case the correct cell is not displayed in the alignment plot, you can show the whole FOVs of the reference\n",
    "# as well as the target session and look for the correct cell yourself. Use the indices displayed in the \n",
    "# interactive graph to access the correct session from the list and the correct cell ID.\n",
    "tracker.show_whole_fov(reference_session=pcf_objects[5], target_session=pcf_objects[2], ref_cell_id=120)\n"
   ]
  },
  {
   "cell_type": "code",
   "execution_count": 7,
   "metadata": {},
   "outputs": [
    {
     "name": "stdout",
     "output_type": "stream",
     "text": [
      "Saving alignment table to W:\\Neurophysiology-Storage1\\Wahl\\Hendrik\\PhD\\Data\\Batch3\\batch_processing\\cell_alignments\\pc_alignment_20200826.txt...\n"
     ]
    }
   ],
   "source": [
    "# Save the alignment array under the provided directory as a csv table. Every row is one place cell from the \n",
    "# reference session, every column is one session, and the entries are the IDs of each cell in the corresponding\n",
    "# session.\n",
    "file_directory = r'W:\\Neurophysiology-Storage1\\Wahl\\Hendrik\\PhD\\Data\\Batch3\\batch_processing\\cell_alignments'\n",
    "tracker.save_alignment(file_directory, alignment_array, reference_session, pcf_objects)\n"
   ]
  },
  {
   "cell_type": "code",
   "execution_count": null,
   "metadata": {},
   "outputs": [],
   "source": []
  }
 ],
 "metadata": {
  "kernelspec": {
   "display_name": "caiman",
   "language": "python",
   "name": "caiman"
  },
  "language_info": {
   "codemirror_mode": {
    "name": "ipython",
    "version": 3
   },
   "file_extension": ".py",
   "mimetype": "text/x-python",
   "name": "python",
   "nbconvert_exporter": "python",
   "pygments_lexer": "ipython3",
   "version": "3.7.3"
  }
 },
 "nbformat": 4,
 "nbformat_minor": 2
}
